{
 "cells": [
  {
   "cell_type": "markdown",
   "metadata": {
    "id": "dHkVv7n_PVg2"
   },
   "source": [
    "# Aljabar Matrix\n",
    "###Tidak mengerjakan tidak boleh masuk\n",
    "* Berikan pengertian apa itu Aljabar matrix\n",
    "* Buatlah Matrix A(3x3),B(2x3),C(3x2)\n",
    "* Operasi Matrix\n",
    "  * Penjumlahan\n",
    "  * Perkalian\n",
    "  * Pengurangan\n",
    "  * Tranpose Matrix\n",
    "* Buat program untuk mengkalikan Matrix A dengan Matrix B tidak menggunakan '@'\n",
    "\n",
    "Pengertian Matrix: Matrix merupakan suatu kumpulan bilangan sejumlah m x n yang disusun menjadi m baris dan n kolom."
   ]
  },
  {
   "cell_type": "code",
   "execution_count": 1,
   "metadata": {
    "id": "OfJTQgBwPVg3"
   },
   "outputs": [],
   "source": [
    "import numpy as np"
   ]
  },
  {
   "cell_type": "code",
   "execution_count": 2,
   "metadata": {
    "id": "jhvYPglPPVg4"
   },
   "outputs": [],
   "source": [
    "# Matrix\n",
    "A = np.array([[1,3,9],[3,-2,6],[9,4,1]]) # matrix 3x3\n",
    "B = np.array([[1,7,5],[2,4,5],[1,-1,4]]) # matrix 3x3\n",
    "C = np.array([[3,2],[-1,2],[3,5]]) # matrix 3x2\n",
    "D = np.array([[2,4,8],[2,-1,5],[-8,5,2]]) # matrix 3x3\n",
    "E = (A+B)\n",
    "F = 2*(A)\n",
    "G = A @ C"
   ]
  },
  {
   "cell_type": "code",
   "execution_count": 3,
   "metadata": {
    "colab": {
     "base_uri": "https://localhost:8080/"
    },
    "executionInfo": {
     "elapsed": 2,
     "status": "ok",
     "timestamp": 1710693336146,
     "user": {
      "displayName": "23-031 Ahmad Mufid Risqi",
      "userId": "07155993790334874016"
     },
     "user_tz": -420
    },
    "id": "eAGG8YJVPVg4",
    "outputId": "9a4db1bc-0452-4aef-eb11-0414a9e0f041"
   },
   "outputs": [
    {
     "name": "stdout",
     "output_type": "stream",
     "text": [
      "Matrix A 3x3: \n",
      "[[ 1  3  9]\n",
      " [ 3 -2  6]\n",
      " [ 9  4  1]]\n",
      " Matrix B 3x3: \n",
      "[[ 1  7  5]\n",
      " [ 2  4  5]\n",
      " [ 1 -1  4]]\n",
      "Matrix C 3x2: \n",
      "[[ 3  2]\n",
      " [-1  2]\n",
      " [ 3  5]]\n",
      "Matrix D 3x3: \n",
      "[[ 2  4  8]\n",
      " [ 2 -1  5]\n",
      " [-8  5  2]]\n"
     ]
    }
   ],
   "source": [
    "print(f\"Matrix A 3x3: \\n{A}\")\n",
    "print(f\" Matrix B 3x3: \\n{B}\")\n",
    "print(f\"Matrix C 3x2: \\n{C}\")\n",
    "print(f\"Matrix D 3x3: \\n{D}\")"
   ]
  },
  {
   "cell_type": "markdown",
   "metadata": {
    "id": "6AQWD2OTRRJq"
   },
   "source": [
    "#Operasi Penjumlahan Matrix"
   ]
  },
  {
   "cell_type": "code",
   "execution_count": 4,
   "metadata": {
    "colab": {
     "base_uri": "https://localhost:8080/"
    },
    "executionInfo": {
     "elapsed": 432,
     "status": "ok",
     "timestamp": 1711330807068,
     "user": {
      "displayName": "23-031 Ahmad Mufid Risqi",
      "userId": "07155993790334874016"
     },
     "user_tz": -420
    },
    "id": "OSIiEGPsPVg4",
    "outputId": "41218ebc-8aa4-43c6-ca9d-979e1f58f147"
   },
   "outputs": [
    {
     "name": "stdout",
     "output_type": "stream",
     "text": [
      "Matrix E =\n",
      "[[ 2 10 14]\n",
      " [ 5  2 11]\n",
      " [10  3  5]]\n"
     ]
    }
   ],
   "source": [
    "# Matrix A+B\n",
    "E = (A+B)\n",
    "print(f\"Matrix E =\\n{E}\")"
   ]
  },
  {
   "cell_type": "markdown",
   "metadata": {
    "id": "atg2EEzaRXZY"
   },
   "source": [
    "#Operasi Perkalian Matrix"
   ]
  },
  {
   "cell_type": "code",
   "execution_count": 5,
   "metadata": {
    "colab": {
     "base_uri": "https://localhost:8080/"
    },
    "executionInfo": {
     "elapsed": 2,
     "status": "ok",
     "timestamp": 1711330810083,
     "user": {
      "displayName": "23-031 Ahmad Mufid Risqi",
      "userId": "07155993790334874016"
     },
     "user_tz": -420
    },
    "id": "LVD9-MmqPVg4",
    "outputId": "6a25b64a-e7fc-4f8d-8b2a-691f4e937b88"
   },
   "outputs": [
    {
     "name": "stdout",
     "output_type": "stream",
     "text": [
      "Perkalian 2 * Matrix F =\n",
      "[[ 2  6 18]\n",
      " [ 6 -4 12]\n",
      " [18  8  2]]\n"
     ]
    }
   ],
   "source": [
    "F = 2*(A)\n",
    "\n",
    "print(f\"Perkalian 2 * Matrix F =\\n{F}\")"
   ]
  },
  {
   "cell_type": "code",
   "execution_count": 6,
   "metadata": {
    "colab": {
     "base_uri": "https://localhost:8080/"
    },
    "executionInfo": {
     "elapsed": 1,
     "status": "ok",
     "timestamp": 1711330811611,
     "user": {
      "displayName": "23-031 Ahmad Mufid Risqi",
      "userId": "07155993790334874016"
     },
     "user_tz": -420
    },
    "id": "Cgu1VQrTPVg4",
    "outputId": "aeaf2441-7653-46f1-a684-517584c2b53a"
   },
   "outputs": [
    {
     "name": "stdout",
     "output_type": "stream",
     "text": [
      "Matrix G =\n",
      "[[27 53]\n",
      " [29 32]\n",
      " [26 31]]\n",
      "Ukuran Matrix = (3, 2)\n"
     ]
    }
   ],
   "source": [
    "# Matrix A x C\n",
    "G = A @ C\n",
    "print(f\"Matrix G =\\n{G}\")\n",
    "print(f\"Ukuran Matrix = {G.shape}\")"
   ]
  },
  {
   "cell_type": "markdown",
   "metadata": {
    "id": "7Q61PLwgRkmA"
   },
   "source": [
    "#Operasi Pengurangan Matrix"
   ]
  },
  {
   "cell_type": "code",
   "execution_count": 7,
   "metadata": {
    "colab": {
     "base_uri": "https://localhost:8080/"
    },
    "executionInfo": {
     "elapsed": 423,
     "status": "ok",
     "timestamp": 1711330813689,
     "user": {
      "displayName": "23-031 Ahmad Mufid Risqi",
      "userId": "07155993790334874016"
     },
     "user_tz": -420
    },
    "id": "YrhVJl0jPVg5",
    "outputId": "c9d6b49b-0c17-4aeb-de06-1a7f81f678b5"
   },
   "outputs": [
    {
     "name": "stdout",
     "output_type": "stream",
     "text": [
      "Matrix G =\n",
      "[[ 0 -4  4]\n",
      " [ 1 -6  1]\n",
      " [ 8  5 -3]]\n"
     ]
    }
   ],
   "source": [
    "# Matrix A - B\n",
    "H  = A - B\n",
    "print(f\"Matrix G =\\n{H}\")"
   ]
  },
  {
   "cell_type": "markdown",
   "metadata": {
    "id": "nH8_wneHRveh"
   },
   "source": [
    "#Cek Persamaan\n",
    "Matrix A(BxC) = Matrix (AxB)C"
   ]
  },
  {
   "cell_type": "code",
   "execution_count": 8,
   "metadata": {
    "colab": {
     "base_uri": "https://localhost:8080/"
    },
    "executionInfo": {
     "elapsed": 615,
     "status": "ok",
     "timestamp": 1711330815641,
     "user": {
      "displayName": "23-031 Ahmad Mufid Risqi",
      "userId": "07155993790334874016"
     },
     "user_tz": -420
    },
    "id": "C1-1tDuBPVg5",
    "outputId": "ee7823ea-e3dc-4191-e38e-38f170394552"
   },
   "outputs": [
    {
     "data": {
      "text/plain": [
       "array([[ True,  True],\n",
       "       [ True,  True],\n",
       "       [ True,  True]])"
      ]
     },
     "execution_count": 8,
     "metadata": {},
     "output_type": "execute_result"
    }
   ],
   "source": [
    "Matrix1 = A@(B@C)\n",
    "Matrix2 = (A@B)@C\n",
    "Matrix1 == Matrix2"
   ]
  },
  {
   "cell_type": "markdown",
   "metadata": {
    "id": "Gc7F_metPVg5"
   },
   "source": [
    "Matrix c(AB) = Matrix (cA)B = Matrix A(cB)"
   ]
  },
  {
   "cell_type": "code",
   "execution_count": 9,
   "metadata": {
    "colab": {
     "base_uri": "https://localhost:8080/"
    },
    "executionInfo": {
     "elapsed": 431,
     "status": "ok",
     "timestamp": 1711330818497,
     "user": {
      "displayName": "23-031 Ahmad Mufid Risqi",
      "userId": "07155993790334874016"
     },
     "user_tz": -420
    },
    "id": "0167i33zPVg5",
    "outputId": "39e94aa4-f674-45d1-ac98-c72e7bfeb906"
   },
   "outputs": [
    {
     "name": "stdout",
     "output_type": "stream",
     "text": [
      "[[ 32  20 112]\n",
      " [ 10  14  58]\n",
      " [ 36 156 138]]\n",
      "\n",
      "[[ 32  20 112]\n",
      " [ 10  14  58]\n",
      " [ 36 156 138]]\n",
      "\n",
      "[[ 32  20 112]\n",
      " [ 10  14  58]\n",
      " [ 36 156 138]]\n"
     ]
    }
   ],
   "source": [
    "c = 2\n",
    "Matrix_3 = c*(A@B)\n",
    "Matrix_4 = (c*A)@B\n",
    "Matrix_5 = A@(c*B)\n",
    "print(Matrix_3)\n",
    "print()\n",
    "print(Matrix_4)\n",
    "print()\n",
    "print(Matrix_5)"
   ]
  },
  {
   "cell_type": "markdown",
   "metadata": {
    "id": "IBQkIpQ2SAvB"
   },
   "source": [
    "#Tranpose Matrix\n",
    "Anggap Baris = m, Kolom = n\n",
    "\n",
    "=> C = A_trans @ A\n",
    "\n",
    "=> (n x m) @ (m x n) = n * n\n",
    "\n",
    "contoh: [2 x 3] @ [3 x 2] = [2 x 2]\n",
    "\n",
    "=> C = A @ A_trans\n",
    "\n",
    "=> (m x n) @ (n x m) = m x m\n",
    "\n",
    "contoh: [3 x 2] @ [2 x 3] = [3 x 3]"
   ]
  },
  {
   "cell_type": "code",
   "execution_count": 10,
   "metadata": {
    "colab": {
     "base_uri": "https://localhost:8080/"
    },
    "executionInfo": {
     "elapsed": 444,
     "status": "ok",
     "timestamp": 1711330822714,
     "user": {
      "displayName": "23-031 Ahmad Mufid Risqi",
      "userId": "07155993790334874016"
     },
     "user_tz": -420
    },
    "id": "uGeJQOr-PVg5",
    "outputId": "28a7c678-2740-4c83-fcb9-127952e2d3aa"
   },
   "outputs": [
    {
     "name": "stdout",
     "output_type": "stream",
     "text": [
      "Matrik A sebelum di transpose=\n",
      " [[ 1  3  9]\n",
      " [ 3 -2  6]\n",
      " [ 9  4  1]]\n",
      "\n",
      "Matrik A setelah di transpose=\n",
      " [[ 1  3  9]\n",
      " [ 3 -2  4]\n",
      " [ 9  6  1]]\n",
      "Ordo A_transpose adalah (3, 3)\n",
      "\n",
      "Z = A_transpose x A =\n",
      " [[ 91  33  36]\n",
      " [ 33  29  19]\n",
      " [ 36  19 118]]\n",
      "Ordo Z adalah (3, 3)\n",
      "\n",
      "P = A_transpose x A =\n",
      " [[91 51 30]\n",
      " [51 49 25]\n",
      " [30 25 98]]\n",
      "Ordo P adalah (3, 3)\n"
     ]
    }
   ],
   "source": [
    "# Contoh dengan Martrix 3x3\n",
    "\n",
    "A_tran = A.transpose()\n",
    "print('Matrik A sebelum di transpose=\\n', A)\n",
    "print()\n",
    "print('Matrik A setelah di transpose=\\n',A_tran)\n",
    "print('Ordo A_transpose adalah',A_tran.shape)\n",
    "print()\n",
    "Z = A_tran @ A\n",
    "print('Z = A_transpose x A =\\n',Z)\n",
    "print('Ordo Z adalah',Z.shape)\n",
    "print()\n",
    "P=A @ A_tran\n",
    "print('P = A_transpose x A =\\n',P)\n",
    "print('Ordo P adalah',P.shape)"
   ]
  },
  {
   "cell_type": "code",
   "execution_count": 11,
   "metadata": {
    "colab": {
     "base_uri": "https://localhost:8080/"
    },
    "executionInfo": {
     "elapsed": 441,
     "status": "ok",
     "timestamp": 1711330826430,
     "user": {
      "displayName": "23-031 Ahmad Mufid Risqi",
      "userId": "07155993790334874016"
     },
     "user_tz": -420
    },
    "id": "eNtFg9oGSH3I",
    "outputId": "77d08614-2f6f-4c73-cf1d-630ca07889bf"
   },
   "outputs": [
    {
     "name": "stdout",
     "output_type": "stream",
     "text": [
      "Matrix_A sebelum di transpose=\n",
      " [[-1  2  3]\n",
      " [ 3  2  1]]\n",
      "\n",
      "Matrix A setelah di transpose=\n",
      " [[-1  3]\n",
      " [ 2  2]\n",
      " [ 3  1]]\n",
      "Ordo Matrix_A_Transpose adalah (3, 2)\n",
      "\n",
      "Matrix_Z = Matrix_A_Transpose x Matrix_A =\n",
      " [[10  4  0]\n",
      " [ 4  8  8]\n",
      " [ 0  8 10]]\n",
      "Ordo Z adalah (3, 3)\n",
      "\n",
      "P = A_transpose x A =\n",
      " [[14  4]\n",
      " [ 4 14]]\n",
      "ordo Matrix P adalah (2, 2)\n"
     ]
    }
   ],
   "source": [
    "# Soal dengan Matrix 3x2\n",
    "\n",
    "Matrix_A = np.array([[-1,2,3],[3,2,1]])\n",
    "\n",
    "Matrix_A_Trans = Matrix_A.transpose()\n",
    "print('Matrix_A sebelum di transpose=\\n', Matrix_A)\n",
    "print()\n",
    "\n",
    "print('Matrix A setelah di transpose=\\n',Matrix_A_Trans)\n",
    "print('Ordo Matrix_A_Transpose adalah',Matrix_A_Trans.shape)\n",
    "print()\n",
    "\n",
    "Matrix_Z = Matrix_A_Trans @ Matrix_A\n",
    "print('Matrix_Z = Matrix_A_Transpose x Matrix_A =\\n',Matrix_Z)\n",
    "print('Ordo Z adalah',Z.shape)\n",
    "print()\n",
    "\n",
    "Matrix_P = Matrix_A @ Matrix_A_Trans\n",
    "print('P = A_transpose x A =\\n',Matrix_P)\n",
    "print('ordo Matrix P adalah',Matrix_P.shape)"
   ]
  },
  {
   "cell_type": "markdown",
   "metadata": {
    "id": "0v090YI2SLx0"
   },
   "source": [
    "#Program untuk mengkalikan Matrix A dengan Matrix B Secara Manual tidak menggunakan ‘@’"
   ]
  },
  {
   "cell_type": "code",
   "execution_count": 12,
   "metadata": {
    "colab": {
     "base_uri": "https://localhost:8080/"
    },
    "executionInfo": {
     "elapsed": 435,
     "status": "ok",
     "timestamp": 1711330920730,
     "user": {
      "displayName": "23-031 Ahmad Mufid Risqi",
      "userId": "07155993790334874016"
     },
     "user_tz": -420
    },
    "id": "VJNLCTtOSPWL",
    "outputId": "b7f8ac87-8671-4a3d-b23e-c5853207ff7f"
   },
   "outputs": [
    {
     "name": "stdout",
     "output_type": "stream",
     "text": [
      " Matrix_1 = [[2, 4, 7], [5, -1, 4], [7, 6, 3]]\n",
      "\n",
      " Matrix_2 = [[7, 5, 3], [4, 6, 9], [1, -3, 2]]\n",
      "[[14, 0, 0], [0, 0, 0], [0, 0, 0]]\n",
      "Matrix 1 :  2\n",
      "Matrix 2 :  7\n",
      "[[30, 0, 0], [0, 0, 0], [0, 0, 0]]\n",
      "Matrix 1 :  4\n",
      "Matrix 2 :  4\n",
      "[[37, 0, 0], [0, 0, 0], [0, 0, 0]]\n",
      "Matrix 1 :  7\n",
      "Matrix 2 :  1\n",
      "[[37, 10, 0], [0, 0, 0], [0, 0, 0]]\n",
      "Matrix 1 :  2\n",
      "Matrix 2 :  5\n",
      "[[37, 34, 0], [0, 0, 0], [0, 0, 0]]\n",
      "Matrix 1 :  4\n",
      "Matrix 2 :  6\n",
      "[[37, 13, 0], [0, 0, 0], [0, 0, 0]]\n",
      "Matrix 1 :  7\n",
      "Matrix 2 :  -3\n",
      "[[37, 13, 6], [0, 0, 0], [0, 0, 0]]\n",
      "Matrix 1 :  2\n",
      "Matrix 2 :  3\n",
      "[[37, 13, 42], [0, 0, 0], [0, 0, 0]]\n",
      "Matrix 1 :  4\n",
      "Matrix 2 :  9\n",
      "[[37, 13, 56], [0, 0, 0], [0, 0, 0]]\n",
      "Matrix 1 :  7\n",
      "Matrix 2 :  2\n",
      "[[37, 13, 56], [35, 0, 0], [0, 0, 0]]\n",
      "Matrix 1 :  5\n",
      "Matrix 2 :  7\n",
      "[[37, 13, 56], [31, 0, 0], [0, 0, 0]]\n",
      "Matrix 1 :  -1\n",
      "Matrix 2 :  4\n",
      "[[37, 13, 56], [35, 0, 0], [0, 0, 0]]\n",
      "Matrix 1 :  4\n",
      "Matrix 2 :  1\n",
      "[[37, 13, 56], [35, 25, 0], [0, 0, 0]]\n",
      "Matrix 1 :  5\n",
      "Matrix 2 :  5\n",
      "[[37, 13, 56], [35, 19, 0], [0, 0, 0]]\n",
      "Matrix 1 :  -1\n",
      "Matrix 2 :  6\n",
      "[[37, 13, 56], [35, 7, 0], [0, 0, 0]]\n",
      "Matrix 1 :  4\n",
      "Matrix 2 :  -3\n",
      "[[37, 13, 56], [35, 7, 15], [0, 0, 0]]\n",
      "Matrix 1 :  5\n",
      "Matrix 2 :  3\n",
      "[[37, 13, 56], [35, 7, 6], [0, 0, 0]]\n",
      "Matrix 1 :  -1\n",
      "Matrix 2 :  9\n",
      "[[37, 13, 56], [35, 7, 14], [0, 0, 0]]\n",
      "Matrix 1 :  4\n",
      "Matrix 2 :  2\n",
      "[[37, 13, 56], [35, 7, 14], [49, 0, 0]]\n",
      "Matrix 1 :  7\n",
      "Matrix 2 :  7\n",
      "[[37, 13, 56], [35, 7, 14], [73, 0, 0]]\n",
      "Matrix 1 :  6\n",
      "Matrix 2 :  4\n",
      "[[37, 13, 56], [35, 7, 14], [76, 0, 0]]\n",
      "Matrix 1 :  3\n",
      "Matrix 2 :  1\n",
      "[[37, 13, 56], [35, 7, 14], [76, 35, 0]]\n",
      "Matrix 1 :  7\n",
      "Matrix 2 :  5\n",
      "[[37, 13, 56], [35, 7, 14], [76, 71, 0]]\n",
      "Matrix 1 :  6\n",
      "Matrix 2 :  6\n",
      "[[37, 13, 56], [35, 7, 14], [76, 62, 0]]\n",
      "Matrix 1 :  3\n",
      "Matrix 2 :  -3\n",
      "[[37, 13, 56], [35, 7, 14], [76, 62, 21]]\n",
      "Matrix 1 :  7\n",
      "Matrix 2 :  3\n",
      "[[37, 13, 56], [35, 7, 14], [76, 62, 75]]\n",
      "Matrix 1 :  6\n",
      "Matrix 2 :  9\n",
      "[[37, 13, 56], [35, 7, 14], [76, 62, 81]]\n",
      "Matrix 1 :  3\n",
      "Matrix 2 :  2\n",
      "\n",
      "Hasil perkalian Matrix_1 dan Matrix 2 = [[37, 13, 56], [35, 7, 14], [76, 62, 81]]\n",
      "\n",
      "Pembuktian untuk Matrix A @ B =\n",
      "[[16 10 56]\n",
      " [ 5  7 29]\n",
      " [18 78 69]]\n"
     ]
    }
   ],
   "source": [
    "Matrix_1 = [[2,4,7],\n",
    "            [5,-1,4],\n",
    "            [7,6,3]]\n",
    "\n",
    "Matrix_2 = [[7,5,3],\n",
    "            [4,6,9],\n",
    "            [1,-3,2]]\n",
    "Result = []\n",
    "\n",
    "print(f\" Matrix_1 = {Matrix_1}\")\n",
    "print()\n",
    "print(f\" Matrix_2 = {Matrix_2}\")\n",
    "\n",
    "def multiply_matrix(matrix1,matrix2):\n",
    "  result = [[0,0,0],[0,0,0],[0,0,0]] # Menginisialisasikan dulu matrix dengan semua value 0\n",
    "\n",
    "  for i in range(len(Matrix_1)):\n",
    "    for j in range(len(Matrix_2[0])):\n",
    "      for k in range(len(Matrix_2)):\n",
    "        result[i][j] += Matrix_1[i][k] * Matrix_2[k][j]\n",
    "        print(result)\n",
    "        print(\"Matrix 1 : \", Matrix_1[i][k])\n",
    "        print(\"Matrix 2 : \", Matrix_2[k][j])\n",
    "  return result\n",
    "\n",
    "hasil = multiply_matrix(Matrix_1,Matrix_2)\n",
    "print()\n",
    "print(f\"Hasil perkalian Matrix_1 dan Matrix 2 = {hasil}\")\n",
    "print()\n",
    "print(f\"Pembuktian untuk Matrix A @ B =\\n{A @ B}\")"
   ]
  }
 ],
 "metadata": {
  "colab": {
   "provenance": []
  },
  "kernelspec": {
   "display_name": "Python 3",
   "language": "python",
   "name": "python3"
  },
  "language_info": {
   "codemirror_mode": {
    "name": "ipython",
    "version": 3
   },
   "file_extension": ".py",
   "mimetype": "text/x-python",
   "name": "python",
   "nbconvert_exporter": "python",
   "pygments_lexer": "ipython3",
   "version": "3.10.13"
  }
 },
 "nbformat": 4,
 "nbformat_minor": 0
}