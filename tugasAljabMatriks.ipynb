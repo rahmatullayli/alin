{
  "nbformat": 4,
  "nbformat_minor": 0,
  "metadata": {
    "colab": {
      "provenance": [],
      "authorship_tag": "ABX9TyNwuPt0PAdjTSznn5Y46VHW",
      "include_colab_link": true
    },
    "kernelspec": {
      "name": "python3",
      "display_name": "Python 3"
    },
    "language_info": {
      "name": "python"
    }
  },
  "cells": [
    {
      "cell_type": "markdown",
      "metadata": {
        "id": "view-in-github",
        "colab_type": "text"
      },
      "source": [
        "<a href=\"https://colab.research.google.com/github/rahmatullayli/alin/blob/main/tugasAljabMatriks.ipynb\" target=\"_parent\"><img src=\"https://colab.research.google.com/assets/colab-badge.svg\" alt=\"Open In Colab\"/></a>"
      ]
    },
    {
      "cell_type": "markdown",
      "source": [
        "# Aljabar Matriks\n",
        "\n",
        "\n",
        "1. Berikan penjelasan tentang apa itu matriks\n",
        "2. Operasi matriks\n",
        "    \n",
        "    A. penjumlahan\n",
        "\n",
        "    B. perkalian\n",
        "\n",
        "    C. pengurangan\n",
        "\n",
        "    D. transpose matriks\n",
        "3. Buat program untuk mengalikan matrik A dan B tidak menggunakan \"@\"\n",
        "4. membuat matriks A dan B dengan ordo 3X3 dan matriks C dengan ordo 3X2"
      ],
      "metadata": {
        "id": "XwVem-D9EAjX"
      }
    },
    {
      "cell_type": "markdown",
      "source": [
        "# Jawaban"
      ],
      "metadata": {
        "id": "R5ZKSGaNEIal"
      }
    },
    {
      "cell_type": "markdown",
      "source": [
        "1. Matriks\n",
        "\n",
        "Matriks adalah susunan bilangan real atau kompleks yang tersusun dalam baris dan kolom. Matriks direpresentasikan dengan huruf kapital, seperti A, B, dan C. Dimensi matriks dilambangkan dengan m x n, di mana m adalah jumlah baris dan n adalah jumlah kolom."
      ],
      "metadata": {
        "id": "o-1qrEN8ETpN"
      }
    },
    {
      "cell_type": "markdown",
      "source": [
        "**2. Operasi Matriks**\n",
        "\n",
        "\\\n",
        "**A. Penjumlahan Matriks:**\n",
        "\n",
        "Penjumlahan matriks hanya dapat dilakukan pada matriks dengan dimensi yang sama. Elemen yang memiliki posisi sama pada kedua matriks dijumlahkan.\n",
        "\n",
        "**Contoh:**\n",
        "\n",
        "Misalkan matriks A dan B berukuran 2x2:\n",
        "\n",
        "```\n",
        "A = [1 2]\n",
        "    [3 4]\n",
        "\n",
        "B = [5 6]\n",
        "    [7 8]\n",
        "```\n",
        "\n",
        "Maka penjumlahan matriks A dan B adalah:\n",
        "\n",
        "```\n",
        "A + B = [1+5 2+6]\n",
        "        [3+7 4+8]\n",
        "\n",
        "       = [6 8]\n",
        "        [10 12]\n",
        "```\n",
        "\n",
        "\\\n",
        "**B. Perkalian Matriks:**\n",
        "\n",
        "Perkalian matriks berbeda dengan perkalian bilangan biasa. Perkalian matriks melibatkan perkalian elemen-elemen matriks dan penjumlahan hasil perkaliannya.\n",
        "\n",
        "**Contoh:**\n",
        "\n",
        "Misalkan matriks A berukuran 2x2 dan matriks B berukuran 2x3:\n",
        "\n",
        "```\n",
        "A = [1 2]\n",
        "    [3 4]\n",
        "\n",
        "B = [5 6 7]\n",
        "    [8 9 10]\n",
        "```\n",
        "\n",
        "Maka perkalian matriks A dan B adalah:\n",
        "\n",
        "```\n",
        "A * B = [1*5+2*8 1*6+2*9 1*7+2*10]\n",
        "        [3*5+4*8 3*6+4*9 3*7+4*10]\n",
        "\n",
        "       = [21 24 33]\n",
        "        [49 60 77]\n",
        "```\n",
        "\n",
        "\\\n",
        "**C. Pengurangan Matriks:**\n",
        "\n",
        "Pengurangan matriks dilakukan dengan cara yang sama seperti penjumlahan matriks, yaitu dengan mengurangkan elemen yang memiliki posisi sama pada kedua matriks.\n",
        "\n",
        "**Contoh:**\n",
        "\n",
        "Misalkan kita memiliki dua matriks A dan B berikut:\n",
        "\n",
        "```\n",
        "A = [[1, 2], [3, 4]]\n",
        "B = [[2, 3], [4, 5]]\n",
        "```\n",
        "\n",
        "Untuk mengurangkan matriks A dan B, kita perlu mengurangkan elemen-elemen matriks yang seletak.\n",
        "\n",
        "```\n",
        "A - B = [[1 - 2, 2 - 3], [3 - 4, 4 - 5]]\n",
        "```\n",
        "\n",
        "Hasil pengurangan matriks A dan B adalah matriks berikut:\n",
        "\n",
        "```\n",
        "C = [[-1, -1], [-1, -1]]\n",
        "```\n",
        "\n",
        "\\\n",
        "**D. Transpose Matriks:**\n",
        "\n",
        "Transpose matriks adalah operasi yang mengubah baris menjadi kolom dan kolom menjadi baris.\n",
        "\n",
        "**Contoh:**\n",
        "\n",
        "Misalkan matriks A berukuran 2x2:\n",
        "\n",
        "```\n",
        "A = [1 2]\n",
        "    [3 4]\n",
        "```\n",
        "\n",
        "Maka transpose matriks A adalah:\n",
        "\n",
        "```\n",
        "A^T = [1 3]\n",
        "      [2 4]\n",
        "```\n",
        "\n",
        "\n"
      ],
      "metadata": {
        "id": "aMzvXjNSEadO"
      }
    },
    {
      "cell_type": "markdown",
      "source": [
        "#3. Program Perkalian Matriks\n",
        "\n",
        "Berikut adalah program Python untuk mengalikan matriks A dan B secara manual menggunakan perulangan:"
      ],
      "metadata": {
        "id": "bhx-UvOsEmUU"
      }
    },
    {
      "cell_type": "code",
      "source": [
        "def multiply_matrices(A, B):\n",
        "    rows_A = len(A)\n",
        "    cols_A = len(A[0])\n",
        "    rows_B = len(B)\n",
        "    cols_B = len(B[0])\n",
        "\n",
        "    # Membuat matriks hasil dengan ukuran yang sesuai\n",
        "    result = [[0 for _ in range(cols_B)] for _ in range(rows_A)]\n",
        "\n",
        "    # Perkalian matriks\n",
        "    for i in range(rows_A):\n",
        "        for j in range(cols_B):\n",
        "            for k in range(cols_A):\n",
        "                result[i][j] += A[i][k] * B[k][j]\n",
        "\n",
        "    return result\n",
        "\n",
        "# Matriks A\n",
        "A = [[1, 2, 3],\n",
        "     [4, 5, 6],\n",
        "     [7, 8, 9]]\n",
        "\n",
        "# Matriks B\n",
        "B = [[9, 8, 7],\n",
        "     [6, 5, 4],\n",
        "     [3, 2, 1]]\n",
        "\n",
        "# Mengalikan dua matriks\n",
        "C = multiply_matrices(A, B)\n",
        "\n",
        "# Menampilkan hasil\n",
        "for row in C:\n",
        "    print(row)"
      ],
      "metadata": {
        "colab": {
          "base_uri": "https://localhost:8080/"
        },
        "id": "W0ATqxBzEteq",
        "outputId": "0bc6b329-5d63-4a21-ceed-780a8742ca33"
      },
      "execution_count": 1,
      "outputs": [
        {
          "output_type": "stream",
          "name": "stdout",
          "text": [
            "[30, 24, 18]\n",
            "[84, 69, 54]\n",
            "[138, 114, 90]\n"
          ]
        }
      ]
    },
    {
      "cell_type": "markdown",
      "source": [
        "4. membuat matriks A dan B dengan ordo 3X3 dan matriks C dengan ordo 3X2"
      ],
      "metadata": {
        "id": "84WA_dYhFUZm"
      }
    },
    {
      "cell_type": "code",
      "source": [
        "# Matriks A\n",
        "A = [[1, 2, 3],\n",
        "     [4, 5, 6],\n",
        "     [7, 8, 9]]\n",
        "\n",
        "# Matriks B\n",
        "B = [[9, 8, 7],\n",
        "     [6, 5, 4],\n",
        "     [3, 2, 1]]\n",
        "\n",
        "# Matriks C\n",
        "C = [[1, 2],\n",
        "     [3, 4],\n",
        "     [5, 6]]"
      ],
      "metadata": {
        "id": "jfWCyq08FVg9"
      },
      "execution_count": 2,
      "outputs": []
    }
  ]
}