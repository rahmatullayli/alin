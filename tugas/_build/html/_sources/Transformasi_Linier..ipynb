{
 "cells": [
  {
   "cell_type": "markdown",
   "metadata": {},
   "source": [
    "# Transformasi Linier"
   ]
  },
  {
   "cell_type": "markdown",
   "metadata": {},
   "source": [
    "## Definisi Matriks Transformasi Linier\n",
    "\n",
    "Matriks transformasi linier adalah representasi matematis dari operasi transformasi linier dalam ruang vektor. Transformasi linier adalah fungsi yang memetakan vektor dari satu ruang vektor ke ruang vektor lainnya, dengan sifat bahwa kombinasi linier dari vektor-vektor dipertahankan\n"
   ]
  },
  {
   "cell_type": "markdown",
   "metadata": {},
   "source": [
    "## Penjelasan Kode \n",
    "\n",
    " di bawah ini bertujuan untuk menemukan matriks transformasi ( A ) yang mentransformasikan vektor ( \\mathbf{v} = \\begin{pmatrix} 1 \\ 0 \\end{pmatrix} ) menjadi target vektor ( \\mathbf{v'} = \\begin{pmatrix} -1 \\ 0 \\end{pmatrix} )"
   ]
  },
  {
   "cell_type": "code",
   "execution_count": null,
   "metadata": {},
   "outputs": [],
   "source": [
    "import numpy as np\n",
    "\n",
    "# Definisikan vektor kolom sebagai array NumPy\n",
    "vector = np.array([[1], [0]])\n",
    "\n",
    "# Target vektor setelah transformasi\n",
    "target_vector = np.array([[-1], [0]])\n",
    "\n",
    "# Matriks yang akan membawa vector ke target_vector\n",
    "# Dengan mempertimbangkan bahwa kita hanya tahu nilai untuk baris pertama,\n",
    "# kita bisa memilih nilai apa pun untuk elemen lain yang tidak bertentangan\n",
    "# dengan transformasi yang diinginkan.\n",
    "# Misalnya, kita bisa memilih elemen (2,2) sebagai 1 dan elemen (2,1) sebagai 0\n",
    "# untuk tidak mengubah komponen y dari vektor.\n",
    "transformation_matrix = np.array([[-1, 0], [0, 1]])\n",
    "\n",
    "# Cek apakah matriks benar-benar membawa vector ke target_vector\n",
    "result_vector = transformation_matrix.dot(vector)\n",
    "\n",
    "# Verifikasi hasil\n",
    "if np.array_equal(result_vector, target_vector):\n",
    "    print(\"Matriks transformasi yang benar:\")\n",
    "    print(transformation_matrix)\n",
    "else:\n",
    "    print(\"Matriks transformasi tidak benar.\")"
   ]
  },
  {
   "cell_type": "markdown",
   "metadata": {},
   "source": [
    "## Penjelasan Singkat\n",
    "\n",
    "1. Definisikan Vektor Kolom: Vektor awal ( \\mathbf{v} = \\begin{pmatrix} 1 \\ 0 \\end{pmatrix} ) dan target vektor ( \\mathbf{v'} = \\begin{pmatrix} -1 \\ 0 \\end{pmatrix} ).\n",
    " \n",
    " 2. Definisikan Matriks Transformasi: Matriks transformasi ( A ) yang mentransformasikan ( \\mathbf{v} ) menjadi ( \\mathbf{v'} ). Dalam hal ini, matriks yang digunakan adalah ( \\begin{pmatrix} -1 & 0 \\ 0 & 1 \\end{pmatrix} ).\n",
    " \n",
    " 3. Cek Transformasi: Periksa apakah hasil transformasi dari vektor ( \\mathbf{v} ) dengan matriks ( A ) sama dengan target vektor ( \\mathbf{v'} ) menggunakan np.dot.\n",
    " \n",
    " 4. Verifikasi Hasil: Gunakan np.array_equal untuk memverifikasi apakah hasil transformasi benar-benar sama dengan target vektor."
   ]
  },
  {
   "cell_type": "markdown",
   "metadata": {},
   "source": [
    "## Sifat-sifat Transformasi Linier\n",
    "\n",
    "Transformasi linier 𝑇 memiliki dua sifat utama yang membedakannya dari transformasi umum lainnya:\n",
    "\n",
    "1. Additivitas: ( T(\\mathbf{u} + \\mathbf{v}) = T(\\mathbf{u}) + T(\\mathbf{v}) )\n",
    "2. Homogenitas (Skalabilitas): ( T(c\\mathbf{u}) = cT(\\mathbf{u}) )\n",
    "\n",
    "## Analogi Sederhana\n",
    "\n",
    "Bayangkan transformasi linier sebagai sebuah mesin pengolah angka:\n",
    "\n",
    "1. Additivitas: Jika Anda memasukkan dua angka secara terpisah ke dalam mesin, kemudian menjumlahkan hasilnya, itu sama dengan jika Anda menjumlahkan angka-angka tersebut terlebih dahulu dan memasukkan hasilnya ke dalam mesin.\n",
    "\n",
    "2. Homogenitas: Jika Anda mengalikan angka dengan suatu bilangan sebelum memasukkannya ke dalam mesin, hasilnya sama dengan jika Anda memasukkan angka tersebut ke dalam mesin terlebih dahulu, kemudian mengalikan hasilnya dengan bilangan yang sama.\n",
    "\n"
   ]
  },
  {
   "cell_type": "markdown",
   "metadata": {},
   "source": [
    "## Cara Mendapatkan Fungsi Transformasi Matriks\n",
    "\n",
    "Untuk menentukan matriks transformasi \\( A \\) dari transformasi linier \\( T \\), kita perlu mengetahui bagaimana \\( T \\) bekerja pada basis standar dari ruang vektor. Berikut adalah langkah-langkahnya:\n",
    "\n",
    "1. *Tentukan basis standar ruang vektor*: Basis standar di \\( \\mathbb{R}^n \\) adalah vektor \\( \\mathbf{e}_1, \\mathbf{e}_2, \\ldots, \\mathbf{e}_n \\) di mana setiap vektor memiliki satu komponen yang bernilai 1 dan komponen lainnya bernilai 0. Misalnya, basis standar di \\( \\mathbb{R}^2 \\) adalah:\n",
    "   \\[\n",
    "   \\mathbf{e}_1 = \\begin{pmatrix} 1 \\\\ 0 \\end{pmatrix}, \\quad \\mathbf{e}_2 = \\begin{pmatrix} 0 \\\\ 1 \\end{pmatrix}\n",
    "   \\]\n",
    "\n",
    "2. *Tentukan bagaimana transformasi \\( T \\) bekerja pada basis standar*: Hitung \\( T(\\mathbf{e}_i) \\) untuk setiap \\( i \\). Hasilnya adalah kolom-kolom matriks transformasi \\( A \\).\n",
    "\n",
    "3. *Susun hasil transformasi sebagai kolom-kolom matriks \\( A \\)*: Matriks \\( A \\) akan terdiri dari kolom-kolom yang merupakan hasil transformasi dari basis standar.\n",
    "\n",
    "## Contoh\n",
    "\n",
    "Misalkan \\( T \\) adalah transformasi linier dari \\( \\mathbb{R}^2 \\) ke \\( \\mathbb{R}^2 \\) yang didefinisikan oleh:\n",
    "\\[ T(\\mathbf{e}_1) = \\begin{pmatrix} 2 \\\\ 3 \\end{pmatrix} \\]\n",
    "\\[ T(\\mathbf{e}_2) = \\begin{pmatrix} -1 \\\\ 4 \\end{pmatrix} \\]\n",
    "\n",
    "Untuk menentukan matriks transformasi \\( A \\), kita menyusun hasil-hasil ini sebagai kolom-kolom matriks \\( A \\):\n",
    "\\[ A = \\begin{pmatrix} 2 & -1 \\\\ 3 & 4 \\end{pmatrix} \\]\n"
   ]
  },
  {
   "cell_type": "code",
   "execution_count": null,
   "metadata": {},
   "outputs": [],
   "source": [
    "import numpy as np\n",
    "\n",
    "# Definisikan transformasi T pada basis standar\n",
    "T_e1 = np.array([[2], [3]])\n",
    "T_e2 = np.array([[-1], [4]])\n",
    "\n",
    "# Susun kolom-kolom matriks A dari hasil transformasi\n",
    "A = np.hstack((T_e1, T_e2))\n",
    "\n",
    "print(\"Matriks transformasi A:\")\n",
    "print(A)\n"
   ]
  },
  {
   "cell_type": "markdown",
   "metadata": {},
   "source": [
    "*Penjelasan Kode*:\n",
    "- Hasil transformasi \\( T(\\mathbf{e}_1) \\) dan \\( T(\\mathbf{e}_2) \\) didefinisikan sebagai kolom-kolom terpisah.\n",
    "- Matriks \\( A \\) dibentuk dengan menggabungkan (menghimpun) kolom-kolom tersebut menggunakan np.hstack.\n"
   ]
  },
  {
   "cell_type": "markdown",
   "metadata": {},
   "source": [
    "## Verifikasi Transformasi\n",
    "\n",
    "Untuk memverifikasi bahwa matriks \\( A \\) benar-benar merepresentasikan transformasi \\( T \\), kita bisa menguji transformasi pada vektor lain. Misalkan \\( \\mathbf{x} = \\begin{pmatrix} x_1 \\\\ x_2 \\end{pmatrix} \\), maka \\( T(\\mathbf{x}) \\) dapat dihitung sebagai:\n",
    "\\[ T(\\mathbf{x}) = A \\mathbf{x} \\]\n"
   ]
  },
  {
   "cell_type": "code",
   "execution_count": null,
   "metadata": {},
   "outputs": [],
   "source": [
    "# Definisikan vektor x\n",
    "x = np.array([[1], [2]])\n",
    "\n",
    "# Hitung T(x) menggunakan matriks A\n",
    "T_x = A @ x\n",
    "\n",
    "print(\"T(x):\")\n",
    "print(T_x)\n"
   ]
  },
  {
   "cell_type": "markdown",
   "metadata": {},
   "source": [
    "*Penjelasan Kode*:\n",
    "- Vektor \\( \\mathbf{x} \\) didefinisikan.\n",
    "- Transformasi \\( T(\\mathbf{x}) \\) dihitung dengan mengalikan matriks \\( A \\) dengan vektor \\( \\mathbf{x} \\).\n"
   ]
  },
  {
   "cell_type": "markdown",
   "metadata": {},
   "source": [
    "## Rotasi dalam Transformasi Linier\n",
    "\n",
    "Rotasi adalah salah satu contoh transformasi linier yang sering digunakan. Dalam konteks transformasi linier, rotasi mengacu pada pemutaran vektor-vektor dalam ruang dua dimensi atau tiga dimensi di sekitar titik asal dengan sudut tertentu.\n",
    "\n",
    "Rotasi di Ruang Dua Dimensi (( \\mathbb{R}^2 ))\n",
    "\n",
    "Rotasi dalam dua dimensi dapat dinyatakan dengan matriks transformasi. Misalkan kita ingin memutar sebuah vektor dengan sudut ( \\theta ) (dalam radian) berlawanan arah jarum jam. Matriks rotasi ( R(\\theta) ) yang melakukan transformasi ini adalah:\n",
    "\n",
    "[ R(\\theta) = \\begin{pmatrix} \\cos \\theta & -\\sin \\theta \\ \\sin \\theta & \\cos \\theta \\end{pmatrix} ]\n",
    "\n",
    "Penjelasan Elemen Matriks Rotasi\n",
    "- ( \\cos \\theta ): Mengkompensasi perubahan koordinat ( x ) ke koordinat ( y ) selama rotasi.\n",
    "- ( \\sin \\theta ): Mengkompensasi perubahan koordinat ( y ) ke koordinat ( x ) selama rotasi.\n",
    "- Tanda negatif di ( -\\sin \\theta ): Menyebabkan rotasi berlawanan arah"
   ]
  },
  {
   "cell_type": "code",
   "execution_count": 2,
   "metadata": {},
   "outputs": [
    {
     "data": {
      "image/png": "[encoded data removed]",
      "text/plain": [
       "<Figure size 640x480 with 1 Axes>"
      ]
     },
     "metadata": {},
     "output_type": "display_data"
    },
    {
     "data": {
      "image/png": "[encoded data removed]",
      "text/plain": [
       "<Figure size 640x480 with 1 Axes>"
      ]
     },
     "metadata": {},
     "output_type": "display_data"
    }
   ],
   "source": [
    "import numpy as np\n",
    "import matplotlib.pyplot as plt\n",
    "\n",
    "# Fungsi untuk membuat matriks rotasi 2D\n",
    "def make_2d_rotation_matrix(theta):\n",
    "    c, s = np.cos(theta), np.sin(theta)\n",
    "    return np.array([[c, -s], [s, c]])\n",
    "\n",
    "# Fungsi untuk melakukan rotasi pada titik-titik\n",
    "def rotate_points(points, theta):\n",
    "    rotation_matrix = make_2d_rotation_matrix(theta)\n",
    "    return np.dot(rotation_matrix, points.T).T\n",
    "\n",
    "# Fungsi untuk menggambar titik-titik\n",
    "def plot_points(points, rotated_points=None):\n",
    "    plt.figure()\n",
    "    plt.grid()\n",
    "    plt.scatter(points[:, 0], points[:, 1], color='blue', label='Original Points')\n",
    "    if rotated_points is not None:\n",
    "        plt.scatter(rotated_points[:, 0], rotated_points[:, 1], color='red', label='Rotated Points')\n",
    "    plt.axis('equal')\n",
    "    plt.legend()\n",
    "    plt.show()\n",
    "\n",
    "# Contoh penggunaan\n",
    "if __name__ == \"__main__\":\n",
    "    # Membuat beberapa titik sebagai contoh\n",
    "    points = np.array([[2, 1], [2, 2], [1, 2], [2, 1]])\n",
    "    plot_points(points)\n",
    "\n",
    "    # Sudut rotasi dalam radian (misalnya, 90 derajat)\n",
    "    theta = np.pi / 2\n",
    "\n",
    "    # Melakukan rotasi pada titik-titik\n",
    "    rotated_points = rotate_points(points, theta)\n",
    "\n",
    "    # Menggambar titik-titik asli dan titik-titik yang sudah dirotasi\n",
    "    plot_points(points, rotated_points)"
   ]
  },
  {
   "cell_type": "markdown",
   "metadata": {},
   "source": [
    "## Refleksi dalam Transformasi Linier\n",
    "\n",
    "Refleksi adalah transformasi linier yang mencerminkan vektor-vektor terhadap garis atau bidang tertentu. Dalam konteks transformasi linier, refleksi juga dapat direpresentasikan oleh matriks transformasi. Berikut adalah penjelasan refleksi dalam ruang dua dimensi (\\( \\mathbb{R}^2 \\)).\n",
    "\n",
    "## Refleksi Terhadap Sumbu \\( x \\)\n",
    "\n",
    "Refleksi terhadap sumbu \\( x \\) akan mengubah tanda komponen \\( y \\) dari vektor, sementara komponen \\( x \\) tetap tidak berubah. Matriks transformasi untuk refleksi terhadap sumbu \\( x \\) adalah:\n",
    "\n",
    "\\[\n",
    "R_x = \\begin{pmatrix}\n",
    "1 & 0 \\\\\n",
    "0 & -1\n",
    "\\end{pmatrix}\n",
    "\\]\n",
    "\n",
    "## Refleksi Terhadap Sumbu \\( y \\)\n",
    "\n",
    "Refleksi terhadap sumbu \\( y \\) akan mengubah tanda komponen \\( x \\) dari vektor, sementara komponen \\( y \\) tetap tidak berubah. Matriks transformasi untuk refleksi terhadap sumbu \\( y \\) adalah:\n",
    "\n",
    "\\[\n",
    "R_y = \\begin{pmatrix}\n",
    "-1 & 0 \\\\\n",
    "0 & 1\n",
    "\\end{pmatrix}\n",
    "\\]\n",
    "\n",
    "## Refleksi Terhadap Garis \\( y = x \\)\n",
    "\n",
    "Refleksi terhadap garis \\( y = x \\) akan menukar komponen \\( x \\) dan \\( y \\) dari vektor. Matriks transformasi untuk refleksi terhadap garis \\( y = x \\) adalah:\n",
    "\n",
    "\\[\n",
    "R_{y=x} = \\begin{pmatrix}\n",
    "0 & 1 \\\\\n",
    "1 & 0\n",
    "\\end{pmatrix}\n",
    "\\]\n",
    "\n",
    "## Refleksi Terhadap Garis \\( y = -x \\)\n",
    "\n",
    "Refleksi terhadap garis \\( y = -x \\) akan menukar komponen \\( x \\) dan \\( y \\) dari vektor serta mengubah tanda kedua komponen. Matriks transformasi untuk refleksi terhadap garis \\( y = -x \\) adalah:\n",
    "\n",
    "\\[\n",
    "R_{y=-x} = \\begin{pmatrix}\n",
    "0 & -1 \\\\\n",
    "-1 & 0\n",
    "\\end{pmatrix}\n",
    "\\]\n"
   ]
  },
  {
   "cell_type": "code",
   "execution_count": 3,
   "metadata": {},
   "outputs": [
    {
     "data": {
      "image/png": "[encoded data removed]",
      "text/plain": [
       "<Figure size 640x480 with 1 Axes>"
      ]
     },
     "metadata": {},
     "output_type": "display_data"
    },
    {
     "data": {
      "image/png": "[encoded data removed]",
      "text/plain": [
       "<Figure size 640x480 with 1 Axes>"
      ]
     },
     "metadata": {},
     "output_type": "display_data"
    }
   ],
   "source": [
    "import numpy as np\n",
    "import matplotlib.pyplot as plt\n",
    "\n",
    "# Fungsi untuk membuat matriks refleksi terhadap sumbu X\n",
    "def make_reflection_x_matrix():\n",
    "    return np.array([[1, 0], [0, -1]])\n",
    "\n",
    "# Fungsi untuk membuat matriks refleksi terhadap sumbu Y\n",
    "def make_reflection_y_matrix():\n",
    "    return np.array([[-1, 0], [0, 1]])\n",
    "\n",
    "# Fungsi untuk melakukan refleksi pada titik-titik\n",
    "def reflect_points(points, reflection_matrix):\n",
    "    return np.dot(reflection_matrix, points.T).T\n",
    "\n",
    "# Fungsi untuk menggambar titik-titik\n",
    "def plot_points(points, reflected_points=None):\n",
    "    plt.figure()\n",
    "    plt.grid()\n",
    "    plt.scatter(points[:, 0], points[:, 1], color='blue', label='Original Points')\n",
    "    if reflected_points is not None:\n",
    "        plt.scatter(reflected_points[:, 0], reflected_points[:, 1], color='red', label='Reflected Points')\n",
    "    plt.axis('equal')\n",
    "    plt.legend()\n",
    "    plt.show()\n",
    "\n",
    "# Contoh penggunaan\n",
    "if __name__ == \"__main__\":\n",
    "    # Membuat beberapa titik sebagai contoh\n",
    "    points = np.array([[2, 1], [2, 2], [1, 2], [2, 1]])\n",
    "    plot_points(points)\n",
    "\n",
    "    # Melakukan refleksi terhadap sumbu X\n",
    "    reflection_matrix_x = make_reflection_x_matrix()\n",
    "    reflected_points_x = reflect_points(points, reflection_matrix_x)\n",
    "\n",
    "    # Menggambar titik-titik asli dan titik-titik yang sudah direfleksikan terhadap sumbu X\n",
    "    plot_points(points, reflected_points_x)\n",
    "\n",
    "    # Melakukan refleksi terhadap sumbu Y\n",
    "    reflection_matrix_y = make_reflection_y_matrix()\n",
    "    reflected_points_y = reflect_points(points, reflection_matrix_y)"
   ]
  },
  {
   "cell_type": "markdown",
   "metadata": {},
   "source": [
    "## Komposisi Transformasi Linier\n",
    "\n",
    "Dua atau lebih transformasi linier dapat dikompositkan untuk membentuk transformasi linier baru.\n",
    "\n",
    "Jika T dan S adalah dua transformasi linier, maka komposisi T∘S adalah transformasi linier baru yang memetakan elemen-elemen pada ruang vektor U ke elemen-elemen pada ruang vektor V.\n",
    "\n",
    "Komposisi transformasi linier banyak digunakan dalam pemrograman, pengolahan citra, dan aljabar linier terapan.\n",
    "\n",
    "Komposisi transformasi linier adalah operasi di mana dua atau lebih transformasi linier diterapkan secara berurutan.\n",
    "\n",
    "Dalam konteks matriks, komposisi transformasi linier diimplementasikan sebagai perkalian matriks.\n",
    "\n",
    "Matriks hasil dari perkalian tersebut merepresentasikan transformasi gabungan dari transformasi-transformasi yang dikomposisikan.\n",
    "\n",
    "Berikut adalah contoh kode Python yang menggunakan library NumPy untuk melakukan komposisi transformasi linier:"
   ]
  },
  {
   "cell_type": "code",
   "execution_count": null,
   "metadata": {},
   "outputs": [],
   "source": [
    "import numpy as np\n",
    "import matplotlib.pyplot as plt\n",
    "\n",
    "# Fungsi untuk membuat matriks rotasi 2D\n",
    "def make_2d_rotation_matrix(theta):\n",
    "    c, s = np.cos(theta), np.sin(theta)\n",
    "    return np.array([[c, -s], [s, c]])\n",
    "\n",
    "# Fungsi untuk membuat matriks skala\n",
    "def make_scaling_matrix(sx, sy):\n",
    "    return np.array([[sx, 0], [0, sy]])\n",
    "\n",
    "# Fungsi untuk melakukan komposisi transformasi\n",
    "def compose_transformations(transformations):\n",
    "    result = np.eye(2)\n",
    "    for transformation in transformations:\n",
    "        result = np.dot(transformation, result)\n",
    "    return result\n",
    "\n",
    "# Fungsi untuk menggambar titik dan garis\n",
    "def plot_points_and_lines(points, lines=None):\n",
    "    plt.figure()\n",
    "    plt.grid()\n",
    "    x, y = zip(*points)\n",
    "    plt.scatter(x, y, color='blue')\n",
    "    if lines is not None:\n",
    "        for line in lines:\n",
    "            plt.plot(*line, color='red')\n",
    "    plt.axis('equal')\n",
    "    plt.show()\n",
    "\n",
    "# Contoh penggunaan\n",
    "if __name__ == \"__main__\":\n",
    "    # Membuat beberapa titik sebagai contoh\n",
    "    points = np.array([[1, 1], [2, 2], [1, 2], [2, 1]])\n",
    "    plot_points_and_lines(points)\n",
    "\n",
    "    # Membuat transformasi yang akan diterapkan\n",
    "    theta = np.pi / 4  # 45 derajat dalam radian\n",
    "    rotation_matrix = make_2d_rotation_matrix(theta)\n",
    "    scaling_matrix = make_scaling_matrix(2, 2)\n",
    "\n",
    "    # Melakukan komposisi transformasi\n",
    "    composed_transformations = compose_transformations([rotation_matrix, scaling_matrix])\n",
    "\n",
    "    # Menerapkan transformasi komposit ke titik-titik\n",
    "    transformed_points = np.dot(composed_transformations, points.T).T\n",
    "\n",
    "    # Menggambar titik-titik yang sudah di-transformasi\n",
    "    plot_points_and_lines(transformed_points)"
   ]
  },
  {
   "cell_type": "markdown",
   "metadata": {},
   "source": [
    "Kode di atas akan melakukan dua transformasi linier: rotasi sebesar 45 derajat dan skala dengan faktor 2 untuk kedua sumbu.\n",
    "\n",
    "Kemudian, kode akan menggabungkan kedua transformasi tersebut menjadi satu transformasi komposit dan menerapkannya pada beberapa titik."
   ]
  },
  {
   "cell_type": "markdown",
   "metadata": {},
   "source": [
    "## Penerapan Transformasi Linier in real life\n",
    "\n",
    "Transformasi linier memiliki banyak penerapan dalam dunia nyata, seperti:\n",
    "\n",
    "1. Pengolahan Citra: Transformasi linier dapat digunakan untuk operasi-operasi pada citra digital, seperti rotasi, skala, refleksi, dan proyeksi.\n",
    "\n",
    "2. Animasi: Dalam pembuatan animasi, transformasi linier digunakan untuk menggerakkan dan memutar objek-objek dalam adegan.\n",
    "\n",
    "3. Ekonomi dan Keuangan: Transformasi linier dapat digunakan untuk menganalisis dan memodelkan data ekonomi dan keuangan, seperti analisis regresi linier.\n",
    "\n",
    "4. Matematika dan Sains: Transformasi linier merupakan konsep dasar dalam aljabar linier, geometri, dan berbagai cabang matematika lainnya."
   ]
  }
 ],
 "metadata": {
  "kernelspec": {
   "display_name": "Python 3 (ipykernel)",
   "language": "python",
   "name": "python3"
  },
  "language_info": {
   "codemirror_mode": {
    "name": "ipython",
    "version": 3
   },
   "file_extension": ".py",
   "mimetype": "text/x-python",
   "name": "python",
   "nbconvert_exporter": "python",
   "pygments_lexer": "ipython3",
   "version": "3.10.13"
  }
 },
 "nbformat": 4,
 "nbformat_minor": 2
}
