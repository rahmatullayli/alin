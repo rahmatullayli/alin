{
 "cells": [
  {
   "cell_type": "markdown",
   "metadata": {
    "id": "B1xgJ_TmGnsB"
   },
   "source": [
    "# Matrix Invers\n",
    "\n",
    "* sifat-sifat matrix invers\n",
    "\n",
    "* mencari invers dengan eliminasi gaus jordan\n",
    "\n",
    "* solusi sistem persamaan linier dengan matrix invers\n",
    "\n",
    "* (membuat soal persamaan linier 6 variabel)"
   ]
  },
  {
   "cell_type": "markdown",
   "metadata": {
    "id": "L5OehVqIGq5T"
   },
   "source": [
    "## Matrix Invers\n",
    "\n",
    "Matriks invers adalah operasi yang dilakukan pada matriks untuk mendapatkan matriks yang ketika dikalikan dengan matriks asalnya akan menghasilkan matriks identitas. Matriks identitas adalah matriks persegi yang memiliki elemen diagonal utamanya bernilai 1 dan elemen-elemen lainnya bernilai 0. Operasi ini sangat penting dalam berbagai aplikasi matematika, seperti sistem persamaan linear, transformasi geometri, dan optimasi.\n",
    "\n",
    "Sebuah matriks \\( A \\) memiliki invers jika dan hanya jika determinannya tidak sama dengan nol (\\( \\text{det}(A) \\neq 0 \\)). Jika \\( A \\) memiliki invers, maka matriks inversnya dilambangkan dengan \\( A^{-1} \\).\n",
    "\n",
    "Cara mencari invers dari sebuah matriks bisa dilakukan dengan beberapa metode, antara lain:\n",
    "\n",
    "1. **Metode Adjoin**:\n",
    "   - Hitung determinan dari matriks \\( A \\) (\\( \\text{det}(A) \\)).\n",
    "   - Hitung matriks adjoin dari \\( A \\) (\\( \\text{adj}(A) \\)).\n",
    "   - Matriks invers \\( A^{-1} \\) diperoleh dengan membagi setiap elemen dari adjoin \\( A \\) dengan determinan \\( A \\).\n",
    "\n",
    "2. **Metode Eliminasi Gauss-Jordan**:\n",
    "   - Bentuk matriks augmentasi dari \\( A \\) dan matriks identitas \\( I \\).\n",
    "   - Gunakan operasi baris elemen untuk mengubah \\( A \\) menjadi matriks identitas, sambil memastikan operasi yang sama dilakukan pada \\( I \\).\n",
    "   - Jika \\( A \\) bisa diubah menjadi matriks identitas, maka matriks di sisi kanan (aslinya \\( I \\)) akan menjadi invers dari \\( A \\).\n",
    "\n",
    "3. **Metode Cramer**:\n",
    "   - Metode ini digunakan khusus untuk matriks berukuran 2x2 atau 3x3.\n",
    "   - Untuk matriks 2x2, inversnya adalah:\n",
    "     \\[\n",
    "     \\begin{bmatrix}\n",
    "     a & b \\\\\n",
    "     c & d \\\\\n",
    "     \\end{bmatrix}^{-1}\n",
    "     =\n",
    "     \\frac{1}{ad-bc}\n",
    "     \\begin{bmatrix}\n",
    "     d & -b \\\\\n",
    "     -c & a \\\\\n",
    "     \\end{bmatrix}\n",
    "     \\]\n",
    "   - Untuk matriks 3x3, inversnya adalah:\n",
    "     \\[\n",
    "     \\begin{bmatrix}\n",
    "     a & b & c \\\\\n",
    "     d & e & f \\\\\n",
    "     g & h & i \\\\\n",
    "     \\end{bmatrix}^{-1}\n",
    "     =\n",
    "     \\frac{1}{\\text{det}(A)}\n",
    "     \\begin{bmatrix}\n",
    "     ei-fh & ch-bi & bf-ce \\\\\n",
    "     fg-di & ai-cg & cd-af \\\\\n",
    "     dh-eg & bg-ah & ae-bd \\\\\n",
    "     \\end{bmatrix}\n",
    "     \\]\n",
    "\n",
    "Matriks invers memiliki sifat-sifat khusus, seperti:\n",
    "- \\( (A^{-1})^{-1} = A \\)\n",
    "- \\( (kA)^{-1} = \\frac{1}{k}A^{-1} \\) (untuk \\( k \\neq 0 \\))\n",
    "- \\( (AB)^{-1} = B^{-1}A^{-1} \\)\n",
    "\n",
    "Penting untuk diingat bahwa tidak semua matriks memiliki invers. Jika determinan matriks \\( A \\) adalah nol, maka matriks \\( A \\) tidak memiliki invers.\n",
    "\n"
   ]
  },
  {
   "cell_type": "markdown",
   "metadata": {
    "id": "7DNmELBVGqfC"
   },
   "source": [
    "## Sifat sifat Matrix Invers\n",
    "\n",
    "Berikut adalah beberapa sifat utama matris invers yang perlu di pahami:\n",
    "\n",
    "1. **Unik**: Setiap matriks persegi yang tidak singular (determinannya tidak nol) memiliki satu invers yang unik. Artinya, jika sebuah matriks memiliki invers, maka inversnya adalah tunggal.\n",
    "\n",
    "2. **Distributif**: Matriks invers memiliki sifat distributif terhadap perkalian, yaitu jika ( A ), ( B ), dan ( C ) adalah matriks persegi yang sesuai ukuran, dan ( A ) memiliki invers, maka: $A(B+C)=AB+CA*dan*(B+C)A=BA+AC$\n",
    "\n",
    "3. **Asosiatif**: Matriks invers juga mematuhi sifat asosiatif terhadap perkalian, yaitu jika ( A ), ( B ), dan ( C ) adalah matriks persegi yang sesuai ukuran, dan ( A ) memiliki invers, maka: $A(BC)=(AB)C$\n",
    "\n",
    "4. **Identitas**: Produk matriks dengan inversnya menghasilkan matriks identitas, yaitu jika ( A ) adalah matriks persegi yang sesuai ukuran dan memiliki invers, maka: $\n",
    "$ di mana ( I ) adalah matriks identitas.\n",
    "\n",
    "5. **Transpos**: Matriks invers dari matriks transpos adalah transpos dari matriks invers, yaitu jika ( A ) adalah matriks persegi yang sesuai ukuran dan memiliki invers, maka: $\n",
    "$\n",
    "\n",
    "\n",
    "\n",
    "\n",
    "Sifat-sifat ini penting dalam menggunakan matriks invers dalam berbagai aplikasi matematika dan ilmu yanglain  seperti aljabar linear, pemrosesan sinyal, dan pengolahan gambar."
   ]
  },
  {
   "cell_type": "markdown",
   "metadata": {
    "id": "koiBjE9EG2z_"
   },
   "source": [
    "## Mencari invers dengan eliminasi gaus jordan"
   ]
  },
  {
   "cell_type": "code",
   "execution_count": 1,
   "metadata": {
    "colab": {
     "base_uri": "https://localhost:8080/"
    },
    "id": "KnJgYITMIYKH",
    "outputId": "c462dc6a-8965-4dd7-ed62-4f3209476539"
   },
   "outputs": [
    {
     "name": "stdout",
     "output_type": "stream",
     "text": [
      "Matriks Invers menggunakan Eliminasi Gauss-Jordan:\n",
      " [[ 0.5         0.          0.          0.          0.          0.        ]\n",
      " [ 0.          1.         -0.83333333  0.          0.          0.        ]\n",
      " [ 0.          0.          0.16666667  0.          0.          0.        ]\n",
      " [ 0.          0.          0.          0.14285714 -0.12698413  0.        ]\n",
      " [ 0.          0.          0.          0.          0.11111111  0.        ]\n",
      " [ 0.          0.          0.          0.          0.          0.1       ]]\n"
     ]
    }
   ],
   "source": [
    "import numpy as np\n",
    "\n",
    "def RowSwap(A, k, l):\n",
    "    temp = np.copy(A[k])\n",
    "    A[k] = A[l]\n",
    "    A[l] = temp\n",
    "\n",
    "def RowScale(A, k, scale):\n",
    "    A[k] *= scale\n",
    "\n",
    "def RowAdd(A, k, l, scale):\n",
    "    A[l] += A[k] * scale\n",
    "\n",
    "def inverse_matrix(A):\n",
    "    m, n = A.shape\n",
    "    aug_matrix = np.hstack((A, np.identity(m)))\n",
    "\n",
    "    for i in range(m):\n",
    "        pivot_row = i\n",
    "        for k in range(i + 1, m):\n",
    "            if abs(aug_matrix[k, i]) > abs(aug_matrix[pivot_row, i]):\n",
    "                pivot_row = k\n",
    "\n",
    "        if pivot_row != i:\n",
    "            RowSwap(aug_matrix, i, pivot_row)\n",
    "\n",
    "        RowScale(aug_matrix, i, 1 / aug_matrix[i, i])\n",
    "\n",
    "        for j in range(m):\n",
    "            if j != i:\n",
    "                RowAdd(aug_matrix, i, j, -aug_matrix[j, i])\n",
    "\n",
    "    inverse_A = aug_matrix[:, m:]\n",
    "\n",
    "    return inverse_A\n",
    "\n",
    "# Persamaan asli\n",
    "A = np.array([\n",
    "    [2, 0, 0, 0, 0, 0],\n",
    "    [0, 1, 5, 0, 0, 0],\n",
    "    [0, 0, 6, 0, 0, 0],\n",
    "    [0, 0, 0, 7, 8, 0],\n",
    "    [0, 0, 0, 0, 9, 0],\n",
    "    [0, 0, 0, 0, 0, 10],\n",
    "])\n",
    "\n",
    "# Mencari matriks invers\n",
    "invers_A = inverse_matrix(A)\n",
    "\n",
    "print(\"Matriks Invers menggunakan Eliminasi Gauss-Jordan:\\n\", invers_A)"
   ]
  },
  {
   "cell_type": "markdown",
   "metadata": {
    "id": "i1-7K3WSIdco"
   },
   "source": [
    "## solusi persamaan linier dengan matriks invers"
   ]
  },
  {
   "cell_type": "code",
   "execution_count": 2,
   "metadata": {
    "colab": {
     "base_uri": "https://localhost:8080/"
    },
    "id": "MwaCPKjxIiHp",
    "outputId": "360b24c8-4e36-4334-901b-8311d66a0c11"
   },
   "outputs": [
    {
     "name": "stdout",
     "output_type": "stream",
     "text": [
      "Solusi dari sistem persamaan linear:\n",
      "[-2.35294118 -0.67647059  3.11764706 -0.29411765  3.05882353 12.20588235]\n"
     ]
    }
   ],
   "source": [
    "import numpy as np\n",
    "\n",
    "# Menentukan matriks koefisien A\n",
    "A = np.array([[2, -1, -1, 4, 2, 1],\n",
    "              [3, 1, 2, -1, 0, 1],\n",
    "              [1, 2, -3, 1, -1, 2],\n",
    "              [2, -1, 2, 1, 5, -1],\n",
    "              [1, 1, -1, 0, -1, 1],\n",
    "              [1, 2, 3, 2, -1, 0]])\n",
    "\n",
    "# Menentukan vektor hasil B\n",
    "B = np.array([10, 11, 8, 5, 3, 2])\n",
    "\n",
    "# Menghitung invers dari matriks koefisien A\n",
    "A_inv = np.linalg.inv(A)\n",
    "\n",
    "# Mengalikan invers dari matriks koefisien A dengan vektor hasil B\n",
    "X = np.dot(A_inv, B)\n",
    "\n",
    "print(\"Solusi dari sistem persamaan linear:\")\n",
    "print(X)"
   ]
  }
 ],
 "metadata": {
  "colab": {
   "provenance": []
  },
  "kernelspec": {
   "display_name": "Python 3",
   "name": "python3"
  },
  "language_info": {
   "codemirror_mode": {
    "name": "ipython",
    "version": 3
   },
   "file_extension": ".py",
   "mimetype": "text/x-python",
   "name": "python",
   "nbconvert_exporter": "python",
   "pygments_lexer": "ipython3",
   "version": "3.10.13"
  }
 },
 "nbformat": 4,
 "nbformat_minor": 0
}