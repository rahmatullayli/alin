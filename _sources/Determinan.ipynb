{
  "cells": [
    {
      "cell_type": "markdown",
      "metadata": {
        "id": "Wxb6MCCTbbRP"
      },
      "source": [
        "# determinal matrik\n",
        "\n"
      ]
    },
    {
      "cell_type": "markdown",
      "metadata": {
        "id": "o1fFj4zpurP3"
      },
      "source": [
        "## 1"
      ]
    },
    {
      "cell_type": "code",
      "execution_count": null,
      "metadata": {
        "colab": {
          "base_uri": "https://localhost:8080/"
        },
        "id": "RTVmOpEPfI3d",
        "outputId": "4720200a-ccd8-4abd-f60c-378399600b85"
      },
      "outputs": [
        {
          "name": "stdout",
          "output_type": "stream",
          "text": [
            "Determinan dari  matriks identitas ordo (2x2) adalah: 1\n",
            "Determinan dari matriks identitas ordo (2x2) adalah: 1\n"
          ]
        }
      ],
      "source": [
        "import numpy as np\n",
        "A = ([[1,0],[0,1]])\n",
        "determinan = np.linalg.det(A)\n",
        "print(\"Determinan dari  matriks identitas ordo (2x2) adalah:\", int(determinan))\n",
        "\n",
        "B=([[1,0,0],[0,1,0],[0,0,1]])\n",
        "determinan_B = np.linalg.det(B)\n",
        "print(\"Determinan dari matriks identitas ordo (2x2) adalah:\", int(determinan))"
      ]
    },
    {
      "cell_type": "markdown",
      "metadata": {
        "id": "1Y9GF7w6uum3"
      },
      "source": [
        "## 2"
      ]
    },
    {
      "cell_type": "code",
      "execution_count": null,
      "metadata": {
        "colab": {
          "base_uri": "https://localhost:8080/"
        },
        "id": "-JkQUHIqgi04",
        "outputId": "086ccbcd-ab60-4e9f-d87a-022dbf78efb2"
      },
      "outputs": [
        {
          "name": "stdout",
          "output_type": "stream",
          "text": [
            "determinan matriks adalah: -3\n"
          ]
        }
      ],
      "source": [
        "import numpy as np\n",
        "C = ([[1,2,1], [3,1,2], [2,1,2]])\n",
        "determinan = np.linalg.det(C)\n",
        "print(\"determinan matriks adalah:\", int(determinan))"
      ]
    },
    {
      "cell_type": "markdown",
      "metadata": {
        "id": "WnyJvUpNuxaP"
      },
      "source": [
        "## 3"
      ]
    },
    {
      "cell_type": "code",
      "execution_count": null,
      "metadata": {
        "colab": {
          "base_uri": "https://localhost:8080/"
        },
        "id": "hXuipUgnhEfo",
        "outputId": "b939f56b-514b-4d06-b610-8178a5a729ea"
      },
      "outputs": [
        {
          "name": "stdout",
          "output_type": "stream",
          "text": [
            "determinan matriks adalah: 3\n"
          ]
        }
      ],
      "source": [
        "import numpy as np\n",
        "D = ([[3,1,2], [1,2,1], [2,1,2]])\n",
        "determinan = np.linalg.det(D)\n",
        "print(\"determinan matriks adalah:\", int(determinan))"
      ]
    },
    {
      "cell_type": "markdown",
      "metadata": {
        "id": "IZ779Kytu06J"
      },
      "source": [
        "## 4"
      ]
    },
    {
      "cell_type": "code",
      "execution_count": null,
      "metadata": {
        "colab": {
          "base_uri": "https://localhost:8080/"
        },
        "id": "fS8NqZ7whrDA",
        "outputId": "3e17df9b-c22e-4cce-974f-ea2597887858"
      },
      "outputs": [
        {
          "name": "stdout",
          "output_type": "stream",
          "text": [
            "determinan matriks adalah: 0\n"
          ]
        }
      ],
      "source": [
        "import numpy as np\n",
        "E = ([[1,2,1], [2,4,2], [2,1,2]])\n",
        "determinan = np.linalg.det(E)\n",
        "print(\"determinan matriks adalah:\", int(determinan))"
      ]
    },
    {
      "cell_type": "markdown",
      "metadata": {
        "id": "kqV_NlfdvHsd"
      },
      "source": [
        "## 5"
      ]
    },
    {
      "cell_type": "code",
      "execution_count": null,
      "metadata": {
        "colab": {
          "base_uri": "https://localhost:8080/"
        },
        "id": "e7qpLQvijNIV",
        "outputId": "ee090cfc-2d18-4d4a-fffe-6b0f293401b7"
      },
      "outputs": [
        {
          "name": "stdout",
          "output_type": "stream",
          "text": [
            "determinan matriks adalah: 0\n"
          ]
        }
      ],
      "source": [
        "import numpy as np\n",
        "F = ([[1,2,1], [2,4,2], [2,4,3]])\n",
        "determinan = np.linalg.det(F)\n",
        "print(\"determinan matriks adalah:\", int(determinan))"
      ]
    },
    {
      "cell_type": "code",
      "execution_count": null,
      "metadata": {
        "colab": {
          "base_uri": "https://localhost:8080/"
        },
        "id": "9RlTkcBVkMSm",
        "outputId": "ffcf4879-4af8-449a-908d-fd66fd15c8d5"
      },
      "outputs": [
        {
          "name": "stdout",
          "output_type": "stream",
          "text": [
            "determinan matriks adalah: 24\n"
          ]
        }
      ],
      "source": [
        "import numpy as np\n",
        "G = ([[6,2,4], [2,4,2], [4,2,4]])\n",
        "determinan = np.linalg.det(G)\n",
        "print(\"determinan matriks adalah:\", int(determinan))"
      ]
    },
    {
      "cell_type": "code",
      "execution_count": null,
      "metadata": {
        "colab": {
          "base_uri": "https://localhost:8080/"
        },
        "id": "Kqrj6yfYkw3n",
        "outputId": "64ed2514-4322-4043-ab82-d6e327481b9f"
      },
      "outputs": [
        {
          "name": "stdout",
          "output_type": "stream",
          "text": [
            "determinan matriks adalah: -19\n"
          ]
        }
      ],
      "source": [
        "import numpy as np\n",
        "H = ([[6,8], [4,2]])\n",
        "determinan = np.linalg.det(H)\n",
        "print(\"determinan matriks adalah:\", int(determinan))"
      ]
    },
    {
      "cell_type": "code",
      "execution_count": null,
      "metadata": {
        "colab": {
          "base_uri": "https://localhost:8080/"
        },
        "id": "fd5iQyZ2lKE0",
        "outputId": "dfaf3bc7-862d-41cf-fbd4-eb0349b836e9"
      },
      "outputs": [
        {
          "name": "stdout",
          "output_type": "stream",
          "text": [
            "Determinan dari matriks A adalah: -10\n",
            "Determinan dari matriks I adalah: -10\n"
          ]
        }
      ],
      "source": [
        "import numpy as np\n",
        "T= 2\n",
        "A = ([[3,4],[2,1]])\n",
        "determinan = np.linalg.det(A)\n",
        "hasil = determinan *2\n",
        "print(\"Determinan dari matriks A adalah:\", int(hasil.round()))\n",
        "\n",
        "\n",
        "I = ([[3*T,4*T],[2,1]])\n",
        "determinan_I = np.linalg.det(I)\n",
        "print(\"Determinan dari matriks I adalah:\", int(determinan_I.round()))"
      ]
    },
    {
      "cell_type": "markdown",
      "metadata": {
        "id": "3xjkpH0QtIkf"
      },
      "source": [
        "## 6"
      ]
    },
    {
      "cell_type": "code",
      "execution_count": null,
      "metadata": {
        "colab": {
          "base_uri": "https://localhost:8080/"
        },
        "id": "hVsHvOups8b0",
        "outputId": "63937465-2b75-4500-9396-5b2f69cccd23"
      },
      "outputs": [
        {
          "name": "stdout",
          "output_type": "stream",
          "text": [
            "[[7, 5], [2, 1]] \n",
            "\n",
            "determinan dari matriks A2 adalah: -3\n",
            "[[4, 1], [2, 1]] \n",
            "\n",
            "determinan dari matriks A adalah: 2\n",
            "[[3, 2], [2, 1]] \n",
            "\n",
            "determinan dari matriks B adalah: -1\n"
          ]
        }
      ],
      "source": [
        "import numpy as np\n",
        "A2 =([[7,5],[2,1]])\n",
        "determinan =np.linalg.det(A2)\n",
        "print (A2, \"\\n\")\n",
        "print(\"determinan dari matriks A2 adalah:\", int(determinan.round()))\n",
        "\n",
        "A =([[4,1],[2,1]])\n",
        "determinan_A =np.linalg.det(A)\n",
        "print (A, \"\\n\")\n",
        "print(\"determinan dari matriks A adalah:\", int(determinan_A.round()))\n",
        "\n",
        "B =([[3,2],[2,1]])\n",
        "determinan_B =np.linalg.det(B)\n",
        "print (B, \"\\n\")\n",
        "print(\"determinan dari matriks B adalah:\", int(determinan_B.round()))"
      ]
    },
    {
      "cell_type": "code",
      "execution_count": null,
      "metadata": {
        "colab": {
          "base_uri": "https://localhost:8080/"
        },
        "id": "cp4gp2jNnQWg",
        "outputId": "54ff4861-fe83-425b-8868-82d0e667f541"
      },
      "outputs": [
        {
          "name": "stdout",
          "output_type": "stream",
          "text": [
            "determinan dari matriks A2 adalah: -3\n",
            "determinan dari matriks A adalah: 2\n",
            "determinan dari matriks B adalah: -1\n"
          ]
        }
      ],
      "source": [
        "import numpy as np\n",
        "A2 =([[7,5],[2,1]])\n",
        "determinan =np.linalg.det(A2)\n",
        "print(\"determinan dari matriks A2 adalah:\", int(determinan.round()))\n",
        "\n",
        "A =([[4,1],[2,1]])\n",
        "determinan_A =np.linalg.det(A)\n",
        "print(\"determinan dari matriks A adalah:\", int(determinan_A.round()))\n",
        "\n",
        "B =([[3,2],[2,1]])\n",
        "determinan_B =np.linalg.det(B)\n",
        "print(\"determinan dari matriks B adalah:\", int(determinan_B.round()))"
      ]
    },
    {
      "cell_type": "markdown",
      "metadata": {
        "id": "vrN72Rn1uEvq"
      },
      "source": [
        "## 7"
      ]
    },
    {
      "cell_type": "code",
      "execution_count": null,
      "metadata": {
        "colab": {
          "base_uri": "https://localhost:8080/"
        },
        "id": "98TvB82Wr-98",
        "outputId": "911ca585-d5a0-4895-a202-a759471c19fb"
      },
      "outputs": [
        {
          "name": "stdout",
          "output_type": "stream",
          "text": [
            "[[1 3 2]\n",
            " [0 2 2]\n",
            " [0 0 1]] \n",
            "\n",
            "determinan matriks adalah: 2\n"
          ]
        }
      ],
      "source": [
        "import numpy as np\n",
        "A =np.array ([[1,3,2],[0,2,2],[0,0,1]])\n",
        "determinan =np.linalg.det(A)\n",
        "print(A, \"\\n\")\n",
        "print(\"determinan matriks adalah:\", int(determinan))"
      ]
    },
    {
      "cell_type": "code",
      "execution_count": null,
      "metadata": {
        "colab": {
          "base_uri": "https://localhost:8080/"
        },
        "id": "UK482eIauL1a",
        "outputId": "9d26fe9a-eebc-45a9-a87a-e7d982247dab"
      },
      "outputs": [
        {
          "name": "stdout",
          "output_type": "stream",
          "text": [
            "[[2 1 5]\n",
            " [0 4 1]\n",
            " [0 0 2]] \n",
            "\n",
            "determinan matriks adalah: 15\n"
          ]
        }
      ],
      "source": [
        "import numpy as np\n",
        "A =np.array ([[2,1,5],[0,4,1],[0,0,2]])\n",
        "determinan =np.linalg.det(A)\n",
        "print(A, \"\\n\")\n",
        "print(\"determinan matriks adalah:\", int(determinan))"
      ]
    },
    {
      "cell_type": "markdown",
      "metadata": {
        "id": "1bwNuMEFjveE"
      },
      "source": [
        "## tugas baru\n",
        "menghitung det mat dan invers mat\n",
        "menghitung invers matriks 5x5 dengan kofaktor yang di transposekan"
      ]
    },
    {
      "cell_type": "markdown",
      "metadata": {
        "id": "h_TfYszI1Eq8"
      },
      "source": [
        "Untuk menghitung invers matriks\n",
        "5×5 menggunakan metode kofaktor yang ditransposekan, ikuti langkah-langkah berikut:\n",
        "\n",
        "Langkah 1: Hitung Determinan Matriks\n",
        "Untuk menemukan invers suatu matriks, Anda pertama-tama harus memastikan bahwa determinannya tidak sama dengan nol. Determinan matriks\n",
        "𝐴\n",
        "A dapat dihitung menggunakan metode ekspansi kofaktor. Misalkan\n",
        "𝐴\n",
        "A adalah matriks\n",
        "5\n",
        "×\n",
        "5:\n",
        "\n",
        "\\begin{pmatrix}\n",
        "a_{11} & a_{12} & a_{13} & a_{14} & a_{15} \\\\\n",
        "a_{21} & a_{22} & a_{23} & a_{24} & a_{25} \\\\\n",
        "a_{31} & a_{32} & a_{33} & a_{34} & a_{35} \\\\\n",
        "a_{41} & a_{42} & a_{43} & a_{44} & a_{45} \\\\\n",
        "a_{51} & a_{52} & a_{53} & a_{54} & a_{55} \\\\\n",
        "\\end{pmatrix} \\]\n",
        "\n",
        "Determinannya, \\( \\det(A) \\), dihitung dengan ekspansi kofaktor pada baris pertama (atau baris/kolom lain):\n",
        "\\[ \\det(A) = \\sum_{j=1}^{5} (-1)^{1+j} a_{1j} \\det(A_{1j}) \\]\n",
        "Di mana \\( A_{1j} \\) adalah submatriks \\( 4 \\times 4 \\) yang diperoleh dengan menghapus baris pertama dan kolom \\( j \\) dari matriks \\( A \\).\n",
        "### Langkah 2: Hitung Matriks Kofaktor\n",
        "Untuk setiap elemen \\( a_{ij} \\) dari matriks \\( A \\), hitung kofaktornya, \\( C_{ij} \\), yang didefinisikan sebagai:\n",
        "\\[ C_{ij} = (-1)^{i+j} \\det(A_{ij}) \\]\n",
        "Di mana \\( A_{ij} \\) adalah submatriks \\( 4 \\times 4 \\) yang diperoleh dengan menghapus baris \\( i \\) dan kolom \\( j \\) dari \\( A \\).\n",
        "### Langkah 3: Bentuk Matriks Kofaktor\n",
        "Buat matriks kofaktor \\( C \\) dari semua kofaktor \\( C_{ij} \\):\n",
        "\\[ C = \\begin{pmatrix}\n",
        "C_{11} & C_{12} & C_{13} & C_{14} & C_{15} \\\\\n",
        "C_{21} & C_{22} & C_{23} & C_{24} & C_{25} \\\\\n",
        "C_{31} & C_{32} & C_{33} & C_{34} & C_{35} \\\\\n",
        "C_{41} & C_{42} & C_{43} & C_{44} & C_{45} \\\\\n",
        "C_{51} & C_{52} & C_{53} & C_{54} & C_{55}\n",
        "\\end{pmatrix} \\]\n",
        "### Langkah 4: Transpos Matriks Kofaktor\n",
        "Transposkan matriks kofaktor untuk mendapatkan matriks adjugat \\( \\text{adj}(A) \\):\n",
        "\\[ \\text{adj}(A) = C^T \\]\n",
        "### Langkah 5: Hitung Invers Matriks\n",
        "Akhirnya, invers dari matriks \\( A \\) diberikan oleh:\n",
        "\\[ A^{-1} = \\frac{1}{\\det(A)} \\text{adj}(A) \\]\n",
        "### Contoh\n",
        "Misalkan \\( A \\) adalah:\n",
        "\\[ A = \\begin{pmatrix}\n",
        "2 & -1 & 0 & 0 & 1 \\\\\n",
        "1 & 3 & 2 & 0 & -1 \\\\\n",
        "0 & 1 & -1 & 4 & 2 \\\\\n",
        "3 & 0 & -2 & 1 & 3 \\\\\n",
        "1 & 2 & 3 & 1 & -1\n",
        "\\end{pmatrix} \\]\n",
        "Langkah-langkah lengkap untuk menghitung determinan, matriks kofaktor, dan matriks adjugat secara manual sangat panjang, sehingga disarankan menggunakan alat bantu seperti software matematika (contohnya MATLAB, Python dengan NumPy, atau kalkulator matriks) untuk mengurangi risiko kesalahan dan mempercepat proses perhitungan."
      ]
    },
    {
      "cell_type": "code",
      "execution_count": null,
      "metadata": {
        "id": "m9j5EyAZ1Wjx"
      },
      "outputs": [],
      "source": [
        "import numpy as np\n",
        "\n",
        "# Definisikan matriks 5x5\n",
        "A = np.array([\n",
        "    [2, -1, 0, 0, 1],\n",
        "    [1, 3, 2, 0, -1],\n",
        "    [0, 1, -1, 4, 2],\n",
        "    [3, 0, -2, 1, 3],\n",
        "    [1, 2, 3, 1, -1]\n",
        "])\n",
        "\n",
        "# Pastikan determinan tidak nol\n",
        "det_A = np.linalg.det(A)\n",
        "if det_A == 0:\n",
        "    raise ValueError(\"Matriks tidak memiliki invers karena determinannya nol.\")\n",
        "\n",
        "# Hitung invers matriks menggunakan fungsi bawaan NumPy\n",
        "A_inv = np.linalg.inv(A)\n",
        "\n",
        "print(\"Matriks A:\")\n",
        "print(A)\n",
        "print(\"\\nInvers dari matriks A:\")\n",
        "print(A_inv)\n"
      ]
    }
  ],
  "metadata": {
    "colab": {
      "provenance": []
    },
    "kernelspec": {
      "display_name": "Python 3",
      "name": "python3"
    },
    "language_info": {
      "name": "python"
    }
  },
  "nbformat": 4,
  "nbformat_minor": 0
}
